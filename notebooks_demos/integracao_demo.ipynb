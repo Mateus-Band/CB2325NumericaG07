{
 "cells": [
  {
   "cell_type": "markdown",
   "id": "2c029a54",
   "metadata": {},
   "source": [
    "## Notebook de demonstração para o módulo integração"
   ]
  },
  {
   "cell_type": "code",
   "execution_count": 8,
   "id": "5004e354",
   "metadata": {},
   "outputs": [],
   "source": [
    "#Bloco de configuração para importar o módulo de um diretório pai\n",
    "import sys\n",
    "import os\n",
    "notebook_dir = os.getcwd()\n",
    "project_root = os.path.abspath(os.path.join(notebook_dir, '..'))\n",
    "if project_root not in sys.path:\n",
    "    sys.path.append(project_root)"
   ]
  },
  {
   "cell_type": "code",
   "execution_count": 7,
   "id": "50986f73",
   "metadata": {},
   "outputs": [],
   "source": [
    "from CB2325NumericaG07.integracao import integral_trapezio\n",
    "from CB2325NumericaG07.erros import erro_absoluto, erro_relativo\n",
    "import sympy as sp"
   ]
  },
  {
   "cell_type": "code",
   "execution_count": 9,
   "id": "3a4ec4ef",
   "metadata": {},
   "outputs": [
    {
     "name": "stdout",
     "output_type": "stream",
     "text": [
      "Resultado da integração de sin^2(x) de 0 a pi com n=1000: 1.5707963267948972\n",
      "Valor exato da integração: 1.57079632679490\n",
      "Erro absoluto: 6.66133814775094E-16\n",
      "Erro relativo: 4.24073957528469E-16\n"
     ]
    }
   ],
   "source": [
    "x = sp.Symbol('x')\n",
    "f = (sp.sin(x))**2\n",
    "\n",
    "a = 0\n",
    "b = sp.pi\n",
    "n = 1000\n",
    "\n",
    "resultado = integral_trapezio(f, a, b, n)\n",
    "print(f\"Resultado da integração de sin^2(x) de 0 a pi com n={n}: {resultado}\")\n",
    "\n",
    "# Comparação com o valor exato\n",
    "valor_exato = sp.integrate(f, (x, a, b))\n",
    "print(f\"Valor exato da integração: {valor_exato.evalf()}\")\n",
    "\n",
    "erro = erro_absoluto(valor_exato.evalf(), resultado)\n",
    "print(f\"Erro absoluto: {erro}\")\n",
    "erro_rel = erro_relativo(valor_exato.evalf(), resultado)\n",
    "print(f\"Erro relativo: {erro_rel}\")"
   ]
  }
 ],
 "metadata": {
  "kernelspec": {
   "display_name": "Python 3",
   "language": "python",
   "name": "python3"
  },
  "language_info": {
   "codemirror_mode": {
    "name": "ipython",
    "version": 3
   },
   "file_extension": ".py",
   "mimetype": "text/x-python",
   "name": "python",
   "nbconvert_exporter": "python",
   "pygments_lexer": "ipython3",
   "version": "3.12.12"
  }
 },
 "nbformat": 4,
 "nbformat_minor": 5
}
