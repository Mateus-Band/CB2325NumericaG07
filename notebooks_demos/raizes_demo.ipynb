{
 "cells": [
  {
   "cell_type": "markdown",
   "id": "adbc8147",
   "metadata": {},
   "source": [
    "## Notebook de demonstração para o módulo raizes"
   ]
  },
  {
   "cell_type": "code",
   "execution_count": 2,
   "id": "75ef73bf",
   "metadata": {},
   "outputs": [],
   "source": [
    "#Bloco de configuração para importar o módulo de um diretório pai\n",
    "import sys\n",
    "import os\n",
    "notebook_dir = os.getcwd()\n",
    "project_root = os.path.abspath(os.path.join(notebook_dir, '..'))\n",
    "if project_root not in sys.path:\n",
    "    sys.path.append(project_root)"
   ]
  },
  {
   "cell_type": "code",
   "execution_count": 4,
   "id": "210e1bb4",
   "metadata": {},
   "outputs": [],
   "source": [
    "from CB2325NumericaG07.raizes import metodo_newton_raphson"
   ]
  },
  {
   "cell_type": "code",
   "execution_count": 5,
   "id": "2a84a20a",
   "metadata": {},
   "outputs": [
    {
     "name": "stdout",
     "output_type": "stream",
     "text": [
      "valor calculado foi 0.5948752170638366\n"
     ]
    }
   ],
   "source": [
    "função = lambda x: x**2 - 9*x + 5\n",
    "tol = 1/100\n",
    "resultado = metodo_newton_raphson(função, tol)\n",
    "\n",
    "print(f'valor calculado foi {resultado}')"
   ]
  }
 ],
 "metadata": {
  "kernelspec": {
   "display_name": "Python 3",
   "language": "python",
   "name": "python3"
  },
  "language_info": {
   "codemirror_mode": {
    "name": "ipython",
    "version": 3
   },
   "file_extension": ".py",
   "mimetype": "text/x-python",
   "name": "python",
   "nbconvert_exporter": "python",
   "pygments_lexer": "ipython3",
   "version": "3.12.12"
  }
 },
 "nbformat": 4,
 "nbformat_minor": 5
}
