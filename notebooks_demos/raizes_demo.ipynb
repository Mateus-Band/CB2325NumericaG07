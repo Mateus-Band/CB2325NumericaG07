{
 "cells": [
  {
   "cell_type": "markdown",
   "id": "adbc8147",
   "metadata": {},
   "source": [
    "## Notebook teste para o módulo raizes"
   ]
  },
  {
   "cell_type": "code",
   "execution_count": null,
   "id": "75ef73bf",
   "metadata": {},
   "outputs": [],
   "source": [
    "#Bloco de configuração para importar o módulo de um diretório pai\n",
    "import sys\n",
    "import os\n",
    "notebook_dir = os.getcwd()\n",
    "project_root = os.path.abspath(os.path.join(notebook_dir, '..'))\n",
    "if project_root not in sys.path:\n",
    "    sys.path.append(project_root)"
   ]
  }
 ],
 "metadata": {
  "language_info": {
   "name": "python"
  }
 },
 "nbformat": 4,
 "nbformat_minor": 5
}
