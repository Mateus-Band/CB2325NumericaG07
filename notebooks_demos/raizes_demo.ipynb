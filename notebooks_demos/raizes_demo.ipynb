{
 "cells": [
  {
   "cell_type": "markdown",
   "id": "adbc8147",
   "metadata": {},
   "source": [
    "## Notebook de demonstração para o módulo raizes"
   ]
  },
  {
   "cell_type": "code",
   "execution_count": 1,
   "id": "75ef73bf",
   "metadata": {},
   "outputs": [],
   "source": [
    "#Bloco de configuração para importar o módulo de um diretório pai\n",
    "import sys\n",
    "import os\n",
    "notebook_dir = os.getcwd()\n",
    "project_root = os.path.abspath(os.path.join(notebook_dir, '..'))\n",
    "if project_root not in sys.path:\n",
    "    sys.path.append(project_root)"
   ]
  },
  {
   "cell_type": "code",
   "execution_count": 6,
   "id": "210e1bb4",
   "metadata": {},
   "outputs": [],
   "source": [
    "from CB2325NumericaG07.raizes import metodo_newton_raphson, bissecao, secante\n",
    "import sympy as sp"
   ]
  },
  {
   "cell_type": "code",
   "execution_count": 12,
   "id": "2a84a20a",
   "metadata": {},
   "outputs": [
    {
     "name": "stdout",
     "output_type": "stream",
     "text": [
      "valor calculado foi 0.5948752170638366\n",
      "\n",
      "Valores com sympy: 0.594875162046673\n"
     ]
    }
   ],
   "source": [
    "função = lambda x: x**2 - 9*x + 5\n",
    "tol = 1/100\n",
    "resultado = metodo_newton_raphson(função, tol)\n",
    "print(f'valor calculado foi {resultado}')\n",
    "\n",
    "x = sp.Symbol('x')\n",
    "f = x**2 - 9*x + 5\n",
    "raizes = sp.nsolve(f, x, 1)\n",
    "print()\n",
    "print(f'Valores com sympy: {raizes}')"
   ]
  },
  {
   "cell_type": "code",
   "execution_count": 14,
   "id": "01cf03b9",
   "metadata": {},
   "outputs": [
    {
     "name": "stdout",
     "output_type": "stream",
     "text": [
      "A raiz encontrada pelo método da bisseção é:  0.5768876075744629\n",
      "A raiz encontrada pelo método da secante é:  0.5768875239176032\n",
      "\n",
      "Valores com sympy: 0.576887523916340\n"
     ]
    }
   ],
   "source": [
    "f =  lambda x: x**3 - 9*x + 5\n",
    "raiz = bissecao(f, 0, 2, 10**(-6))\n",
    "print('A raiz encontrada pelo método da bisseção é: ', raiz)\n",
    "\n",
    "raiz = secante(f, 0, 2, 10**(-6))\n",
    "print('A raiz encontrada pelo método da secante é: ', raiz)\n",
    "\n",
    "x = sp.Symbol('x')\n",
    "f = x**3 - 9*x + 5\n",
    "raizes = sp.nsolve(f, x, 1)\n",
    "print()\n",
    "print(f'Valores com sympy: {raizes}')"
   ]
  }
 ],
 "metadata": {
  "kernelspec": {
   "display_name": "Python 3",
   "language": "python",
   "name": "python3"
  },
  "language_info": {
   "codemirror_mode": {
    "name": "ipython",
    "version": 3
   },
   "file_extension": ".py",
   "mimetype": "text/x-python",
   "name": "python",
   "nbconvert_exporter": "python",
   "pygments_lexer": "ipython3",
   "version": "3.12.12"
  }
 },
 "nbformat": 4,
 "nbformat_minor": 5
}
