{
 "cells": [
  {
   "cell_type": "markdown",
   "id": "621e0291",
   "metadata": {},
   "source": [
    "## Notebook teste para o módulo interpolação"
   ]
  },
  {
   "cell_type": "code",
   "execution_count": null,
   "id": "d342aad5",
   "metadata": {},
   "outputs": [],
   "source": [
    "#Bloco de configuração para importar o módulo de um diretório pai\n",
    "import sys\n",
    "import os\n",
    "notebook_dir = os.getcwd()\n",
    "project_root = os.path.abspath(os.path.join(notebook_dir, '..'))\n",
    "if project_root not in sys.path:\n",
    "    sys.path.append(project_root)"
   ]
  }
 ],
 "metadata": {
  "language_info": {
   "name": "python"
  }
 },
 "nbformat": 4,
 "nbformat_minor": 5
}
