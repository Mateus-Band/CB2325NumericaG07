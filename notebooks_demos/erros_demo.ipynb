{
 "cells": [
  {
   "cell_type": "markdown",
   "id": "a72a3385",
   "metadata": {},
   "source": [
    "## Notebook teste para o módulo erros"
   ]
  },
  {
   "cell_type": "code",
   "execution_count": 2,
   "id": "38893864",
   "metadata": {},
   "outputs": [],
   "source": [
    "#Bloco de configuração para importar o módulo de um diretório pai\n",
    "import sys\n",
    "import os\n",
    "notebook_dir = os.getcwd()\n",
    "project_root = os.path.abspath(os.path.join(notebook_dir, '..'))\n",
    "if project_root not in sys.path:\n",
    "    sys.path.append(project_root)"
   ]
  },
  {
   "cell_type": "code",
   "execution_count": 3,
   "id": "57c3c4c9",
   "metadata": {},
   "outputs": [],
   "source": [
    "from NumericaG07.erros import erro_relativo, erro_absoluto"
   ]
  },
  {
   "cell_type": "code",
   "execution_count": 3,
   "id": "d1fc911e",
   "metadata": {},
   "outputs": [
    {
     "name": "stdout",
     "output_type": "stream",
     "text": [
      "Erro absoluto: 0.21034999999999826\n",
      "Erro relativo: 0.004674444444444406\n"
     ]
    }
   ],
   "source": [
    "a = float(input(\"Digite o valor aproximado: \"))\n",
    "b = float(input(\"Digite o valor exato: \"))\n",
    "print(f\"Erro absoluto: {erro_absoluto(a, b)}\")\n",
    "print(f\"Erro relativo: {erro_relativo(a, b)}\")"
   ]
  }
 ],
 "metadata": {
  "kernelspec": {
   "display_name": "venv (3.12.12)",
   "language": "python",
   "name": "python3"
  },
  "language_info": {
   "codemirror_mode": {
    "name": "ipython",
    "version": 3
   },
   "file_extension": ".py",
   "mimetype": "text/x-python",
   "name": "python",
   "nbconvert_exporter": "python",
   "pygments_lexer": "ipython3",
   "version": "3.12.12"
  }
 },
 "nbformat": 4,
 "nbformat_minor": 5
}
